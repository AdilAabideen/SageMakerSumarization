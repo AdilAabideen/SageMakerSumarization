{
 "cells": [
  {
   "cell_type": "code",
   "execution_count": 1,
   "id": "7f4b5c4e-9e73-4d61-a612-37d3072d1e16",
   "metadata": {
    "tags": []
   },
   "outputs": [
    {
     "ename": "SyntaxError",
     "evalue": "invalid syntax (3277417328.py, line 1)",
     "output_type": "error",
     "traceback": [
      "\u001b[0;36m  Cell \u001b[0;32mIn[1], line 1\u001b[0;36m\u001b[0m\n\u001b[0;31m    git init\u001b[0m\n\u001b[0m        ^\u001b[0m\n\u001b[0;31mSyntaxError\u001b[0m\u001b[0;31m:\u001b[0m invalid syntax\n"
     ]
    }
   ],
   "source": [
    "git init\n"
   ]
  },
  {
   "cell_type": "code",
   "execution_count": 2,
   "id": "8f96b975-0832-485f-a78d-e20b05b365f3",
   "metadata": {
    "tags": []
   },
   "outputs": [
    {
     "name": "stdout",
     "output_type": "stream",
     "text": [
      "\u001b[33mhint: Using 'master' as the name for the initial branch. This default branch name\u001b[m\n",
      "\u001b[33mhint: is subject to change. To configure the initial branch name to use in all\u001b[m\n",
      "\u001b[33mhint: of your new repositories, which will suppress this warning, call:\u001b[m\n",
      "\u001b[33mhint: \u001b[m\n",
      "\u001b[33mhint: \tgit config --global init.defaultBranch <name>\u001b[m\n",
      "\u001b[33mhint: \u001b[m\n",
      "\u001b[33mhint: Names commonly chosen instead of 'master' are 'main', 'trunk' and\u001b[m\n",
      "\u001b[33mhint: 'development'. The just-created branch can be renamed via this command:\u001b[m\n",
      "\u001b[33mhint: \u001b[m\n",
      "\u001b[33mhint: \tgit branch -m <name>\u001b[m\n",
      "Initialized empty Git repository in /home/ec2-user/SageMaker/.git/\n"
     ]
    }
   ],
   "source": [
    "!git init"
   ]
  },
  {
   "cell_type": "code",
   "execution_count": 3,
   "id": "0da58952-7f94-489e-b883-ee1c2fb76f8d",
   "metadata": {
    "tags": []
   },
   "outputs": [
    {
     "name": "stdout",
     "output_type": "stream",
     "text": [
      "warning: could not open directory 'lost+found/': Permission denied\n",
      "On branch master\n",
      "\n",
      "Initial commit\n",
      "\n",
      "Untracked files:\n",
      "  (use \"git add <file>...\" to include in what will be committed)\n",
      "\t\u001b[31m.ipynb_checkpoints/\u001b[m\n",
      "\t\u001b[31m.virtual_documents/\u001b[m\n",
      "\t\u001b[31mT5FromHuggingFaceHub.ipynb\u001b[m\n",
      "\t\u001b[31mgit.ipynb\u001b[m\n",
      "\t\u001b[31mpipeline.ipynb\u001b[m\n",
      "\t\u001b[31mrequirements.txt\u001b[m\n",
      "\t\u001b[31mt5-Email_Summary.ipynb\u001b[m\n",
      "\t\u001b[31mtokenized_dataset/\u001b[m\n",
      "\t\u001b[31mtrain.py\u001b[m\n",
      "\n",
      "nothing added to commit but untracked files present (use \"git add\" to track)\n"
     ]
    }
   ],
   "source": [
    "!git commit -m \"first commit\""
   ]
  },
  {
   "cell_type": "code",
   "execution_count": 4,
   "id": "d38addfe-3ea7-432e-933d-95744e9544cb",
   "metadata": {
    "tags": []
   },
   "outputs": [
    {
     "name": "stdout",
     "output_type": "stream",
     "text": [
      "warning: could not open directory 'lost+found/': Permission denied\n"
     ]
    }
   ],
   "source": [
    "!git add ."
   ]
  },
  {
   "cell_type": "code",
   "execution_count": 5,
   "id": "db6a834b-b133-4adb-9f8b-838ab1e0b2f8",
   "metadata": {
    "tags": []
   },
   "outputs": [
    {
     "name": "stdout",
     "output_type": "stream",
     "text": [
      "[master (root-commit) 3ca79a5] first commit\n",
      " Committer: EC2 Default User <ec2-user@ip-172-16-56-68.eu-north-1.compute.internal>\n",
      "Your name and email address were configured automatically based\n",
      "on your username and hostname. Please check that they are accurate.\n",
      "You can suppress this message by setting them explicitly:\n",
      "\n",
      "    git config --global user.name \"Your Name\"\n",
      "    git config --global user.email you@example.com\n",
      "\n",
      "After doing this, you may fix the identity used for this commit with:\n",
      "\n",
      "    git commit --amend --reset-author\n",
      "\n",
      " 23 files changed, 27772 insertions(+)\n",
      " create mode 100644 .ipynb_checkpoints/T5FromHuggingFaceHub-checkpoint.ipynb\n",
      " create mode 100644 .ipynb_checkpoints/git-checkpoint.ipynb\n",
      " create mode 100644 .ipynb_checkpoints/pipeline-checkpoint.ipynb\n",
      " create mode 100644 .ipynb_checkpoints/requirements-checkpoint.txt\n",
      " create mode 100644 .ipynb_checkpoints/t5-Email_Summary-checkpoint.ipynb\n",
      " create mode 100644 .ipynb_checkpoints/train-checkpoint.py\n",
      " create mode 100644 .virtual_documents/T5FromHuggingFaceHub.ipynb\n",
      " create mode 100644 .virtual_documents/Untitled.ipynb\n",
      " create mode 100644 .virtual_documents/git.ipynb\n",
      " create mode 100644 .virtual_documents/pipeline.ipynb\n",
      " create mode 100644 .virtual_documents/t5-Email_Summary.ipynb\n",
      " create mode 100644 T5FromHuggingFaceHub.ipynb\n",
      " create mode 100644 git.ipynb\n",
      " create mode 100644 pipeline.ipynb\n",
      " create mode 100644 requirements.txt\n",
      " create mode 100644 t5-Email_Summary.ipynb\n",
      " create mode 100644 tokenized_dataset/train/data-00000-of-00001.arrow\n",
      " create mode 100644 tokenized_dataset/train/dataset_info.json\n",
      " create mode 100644 tokenized_dataset/train/state.json\n",
      " create mode 100644 tokenized_dataset/validation/data-00000-of-00001.arrow\n",
      " create mode 100644 tokenized_dataset/validation/dataset_info.json\n",
      " create mode 100644 tokenized_dataset/validation/state.json\n",
      " create mode 100644 train.py\n"
     ]
    }
   ],
   "source": [
    "!git commit -m \"first commit\""
   ]
  },
  {
   "cell_type": "code",
   "execution_count": 6,
   "id": "ee800352-6bda-4660-a9e9-a57572b6f322",
   "metadata": {
    "tags": []
   },
   "outputs": [
    {
     "name": "stdout",
     "output_type": "stream",
     "text": [
      "git: 'brach' is not a git command. See 'git --help'.\n",
      "\n",
      "The most similar command is\n",
      "\tbranch\n"
     ]
    }
   ],
   "source": [
    "!git brach -M main"
   ]
  },
  {
   "cell_type": "code",
   "execution_count": 7,
   "id": "2d3c1353-be31-4ffc-b730-042c3771cdfd",
   "metadata": {
    "tags": []
   },
   "outputs": [],
   "source": [
    "!git branch -M main"
   ]
  },
  {
   "cell_type": "code",
   "execution_count": 8,
   "id": "f7118c7b-5e8a-44e4-b3f0-d831ea0be0d3",
   "metadata": {
    "tags": []
   },
   "outputs": [],
   "source": [
    "!git remote add origin https://github.com/AdilAabideen/SageMakerSumarization.git"
   ]
  },
  {
   "cell_type": "code",
   "execution_count": null,
   "id": "d851555e-52e3-41eb-b380-5a52fc30144f",
   "metadata": {
    "tags": []
   },
   "outputs": [
    {
     "name": "stdout",
     "output_type": "stream",
     "text": [
      "Username for 'https://github.com/AdilAabideen/SageMakerSumarization.git': "
     ]
    }
   ],
   "source": [
    "!git push -u origin main"
   ]
  },
  {
   "cell_type": "code",
   "execution_count": null,
   "id": "35aeb463-c904-4c60-958f-4844a332db9d",
   "metadata": {},
   "outputs": [],
   "source": []
  }
 ],
 "metadata": {
  "kernelspec": {
   "display_name": "conda_pytorch_p310",
   "language": "python",
   "name": "conda_pytorch_p310"
  },
  "language_info": {
   "codemirror_mode": {
    "name": "ipython",
    "version": 3
   },
   "file_extension": ".py",
   "mimetype": "text/x-python",
   "name": "python",
   "nbconvert_exporter": "python",
   "pygments_lexer": "ipython3",
   "version": "3.10.14"
  }
 },
 "nbformat": 4,
 "nbformat_minor": 5
}
